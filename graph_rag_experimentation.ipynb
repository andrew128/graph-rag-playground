{
  "nbformat": 4,
  "nbformat_minor": 0,
  "metadata": {
    "colab": {
      "provenance": [],
      "authorship_tag": "ABX9TyM6LGMQfwH0DFVjxr/qw1p0",
      "include_colab_link": true
    },
    "kernelspec": {
      "name": "python3",
      "display_name": "Python 3"
    },
    "language_info": {
      "name": "python"
    }
  },
  "cells": [
    {
      "cell_type": "markdown",
      "metadata": {
        "id": "view-in-github",
        "colab_type": "text"
      },
      "source": [
        "<a href=\"https://colab.research.google.com/github/andrew128/graph-rag-playground/blob/main/graph_rag_experimentation.ipynb\" target=\"_parent\"><img src=\"https://colab.research.google.com/assets/colab-badge.svg\" alt=\"Open In Colab\"/></a>"
      ]
    },
    {
      "cell_type": "code",
      "execution_count": 17,
      "metadata": {
        "colab": {
          "base_uri": "https://localhost:8080/"
        },
        "id": "dz4PSlJ7pnrF",
        "outputId": "c411c3af-9947-4edb-92e8-465794bcc654"
      },
      "outputs": [
        {
          "output_type": "stream",
          "name": "stdout",
          "text": [
            "Requirement already satisfied: networkx in /usr/local/lib/python3.10/dist-packages (3.4.2)\n",
            "Requirement already satisfied: transformers in /usr/local/lib/python3.10/dist-packages (4.46.2)\n",
            "Requirement already satisfied: torch in /usr/local/lib/python3.10/dist-packages (2.5.1+cu121)\n",
            "Requirement already satisfied: faiss-cpu in /usr/local/lib/python3.10/dist-packages (1.9.0.post1)\n",
            "Requirement already satisfied: numpy in /usr/local/lib/python3.10/dist-packages (1.26.4)\n",
            "Requirement already satisfied: ollama in /usr/local/lib/python3.10/dist-packages (0.4.2)\n",
            "Requirement already satisfied: filelock in /usr/local/lib/python3.10/dist-packages (from transformers) (3.16.1)\n",
            "Requirement already satisfied: huggingface-hub<1.0,>=0.23.2 in /usr/local/lib/python3.10/dist-packages (from transformers) (0.26.2)\n",
            "Requirement already satisfied: packaging>=20.0 in /usr/local/lib/python3.10/dist-packages (from transformers) (24.2)\n",
            "Requirement already satisfied: pyyaml>=5.1 in /usr/local/lib/python3.10/dist-packages (from transformers) (6.0.2)\n",
            "Requirement already satisfied: regex!=2019.12.17 in /usr/local/lib/python3.10/dist-packages (from transformers) (2024.9.11)\n",
            "Requirement already satisfied: requests in /usr/local/lib/python3.10/dist-packages (from transformers) (2.32.3)\n",
            "Requirement already satisfied: safetensors>=0.4.1 in /usr/local/lib/python3.10/dist-packages (from transformers) (0.4.5)\n",
            "Requirement already satisfied: tokenizers<0.21,>=0.20 in /usr/local/lib/python3.10/dist-packages (from transformers) (0.20.3)\n",
            "Requirement already satisfied: tqdm>=4.27 in /usr/local/lib/python3.10/dist-packages (from transformers) (4.66.6)\n",
            "Requirement already satisfied: typing-extensions>=4.8.0 in /usr/local/lib/python3.10/dist-packages (from torch) (4.12.2)\n",
            "Requirement already satisfied: jinja2 in /usr/local/lib/python3.10/dist-packages (from torch) (3.1.4)\n",
            "Requirement already satisfied: fsspec in /usr/local/lib/python3.10/dist-packages (from torch) (2024.10.0)\n",
            "Requirement already satisfied: sympy==1.13.1 in /usr/local/lib/python3.10/dist-packages (from torch) (1.13.1)\n",
            "Requirement already satisfied: mpmath<1.4,>=1.1.0 in /usr/local/lib/python3.10/dist-packages (from sympy==1.13.1->torch) (1.3.0)\n",
            "Requirement already satisfied: httpx<0.28.0,>=0.27.0 in /usr/local/lib/python3.10/dist-packages (from ollama) (0.27.2)\n",
            "Requirement already satisfied: pydantic<3.0.0,>=2.9.0 in /usr/local/lib/python3.10/dist-packages (from ollama) (2.9.2)\n",
            "Requirement already satisfied: anyio in /usr/local/lib/python3.10/dist-packages (from httpx<0.28.0,>=0.27.0->ollama) (3.7.1)\n",
            "Requirement already satisfied: certifi in /usr/local/lib/python3.10/dist-packages (from httpx<0.28.0,>=0.27.0->ollama) (2024.8.30)\n",
            "Requirement already satisfied: httpcore==1.* in /usr/local/lib/python3.10/dist-packages (from httpx<0.28.0,>=0.27.0->ollama) (1.0.7)\n",
            "Requirement already satisfied: idna in /usr/local/lib/python3.10/dist-packages (from httpx<0.28.0,>=0.27.0->ollama) (3.10)\n",
            "Requirement already satisfied: sniffio in /usr/local/lib/python3.10/dist-packages (from httpx<0.28.0,>=0.27.0->ollama) (1.3.1)\n",
            "Requirement already satisfied: h11<0.15,>=0.13 in /usr/local/lib/python3.10/dist-packages (from httpcore==1.*->httpx<0.28.0,>=0.27.0->ollama) (0.14.0)\n",
            "Requirement already satisfied: annotated-types>=0.6.0 in /usr/local/lib/python3.10/dist-packages (from pydantic<3.0.0,>=2.9.0->ollama) (0.7.0)\n",
            "Requirement already satisfied: pydantic-core==2.23.4 in /usr/local/lib/python3.10/dist-packages (from pydantic<3.0.0,>=2.9.0->ollama) (2.23.4)\n",
            "Requirement already satisfied: MarkupSafe>=2.0 in /usr/local/lib/python3.10/dist-packages (from jinja2->torch) (3.0.2)\n",
            "Requirement already satisfied: charset-normalizer<4,>=2 in /usr/local/lib/python3.10/dist-packages (from requests->transformers) (3.4.0)\n",
            "Requirement already satisfied: urllib3<3,>=1.21.1 in /usr/local/lib/python3.10/dist-packages (from requests->transformers) (2.2.3)\n",
            "Requirement already satisfied: exceptiongroup in /usr/local/lib/python3.10/dist-packages (from anyio->httpx<0.28.0,>=0.27.0->ollama) (1.2.2)\n"
          ]
        }
      ],
      "source": [
        "!pip install networkx transformers torch faiss-cpu numpy ollama\n",
        "\n",
        "import networkx as nx\n",
        "from transformers import AutoModel, AutoTokenizer\n",
        "import faiss\n",
        "import numpy as np\n",
        "from ollama import chat\n",
        "from ollama import ChatResponse\n",
        "from typing import List"
      ]
    },
    {
      "cell_type": "code",
      "source": [
        "class BasicGraphRag():\n",
        "  \"\"\"\n",
        "  This graph rag will take in input text, chunk it, embed it, and add to a graph\n",
        "\n",
        "  TODO: include logging and metrics\n",
        "  TODO: think about how to better refactor this with an interface for GraphRagApp\n",
        "    or maybe an abstract class for including logging and generating report metric implementations\n",
        "    - yeah like a method generate() that calls generate_impl() and generate() has the latency logging\n",
        "    - generate_impl() is overriden by the base classes\n",
        "    - would probably need to move the class variables into a GraphRagConfig class\n",
        "    - maybe have some top level interface functions and that's it for the graph rag abstract class\n",
        "    - then have some other evaluator class that takes in the data, have some metrics, runs the graph rag app, generates report\n",
        "    - but dont create this abstract class until i start doing more than one app. b/c for example llm idk what to do. want llm for different things.\n",
        "    - or different llms for different parts\n",
        "  \"\"\"\n",
        "  def __init__(self):\n",
        "    self.graph = nx.Graph()\n",
        "    self.embedding = None\n",
        "    self.vector_store = None\n",
        "    self.llm =\n",
        "    self.message_history = []\n",
        "\n",
        "  def query(self, text: str) -> str:\n",
        "    \"\"\"\n",
        "    Top level user function to query for\n",
        "    \"\"\"\n",
        "    relevant_texts = self._retrieve(text)\n",
        "    return self._generate(text, relevant_texts)\n",
        "\n",
        "  def _generate(self, text: str, retrieved_texts: List[str]) -> str:\n",
        "    # use ollama chat to prompt and generate a response\n",
        "    pass\n",
        "\n",
        "  def index(self, text: str) -> None:\n",
        "    # chunk, then embed each chunk, then store in vector db\n",
        "    pass\n",
        "\n",
        "  def _retrieve(self, text: str) -> List[str]:\n",
        "    input_embedding = self._embed(text)\n",
        "    # retrieve from vector store\n",
        "    pass\n",
        "\n",
        "  def _embed(self, text: str) -> List[int]: # maybe turn this into a numpy array\n",
        "    # call embedding api\n",
        "    pass"
      ],
      "metadata": {
        "id": "S4aUwltbdg-l"
      },
      "execution_count": 15,
      "outputs": []
    },
    {
      "cell_type": "code",
      "source": [
        "graph_rag_app = BasicGraphRag()\n",
        "graph_rag_app.index('bob is a blob')\n",
        "graph_rag_app.query('what is bob')\n"
      ],
      "metadata": {
        "id": "g2illFGcvKIS"
      },
      "execution_count": 18,
      "outputs": []
    },
    {
      "cell_type": "code",
      "source": [
        "class Evaluator():\n",
        "  \"\"\"\n",
        "  Class for running evaluation metrics\n",
        "  \"\"\"\n",
        "  def __init__(self):\n",
        "    pass\n",
        "\n",
        "  def evaluate(self, text, graph_rag):\n",
        "    pass"
      ],
      "metadata": {
        "id": "2BTEXSBguxaD"
      },
      "execution_count": null,
      "outputs": []
    }
  ]
}